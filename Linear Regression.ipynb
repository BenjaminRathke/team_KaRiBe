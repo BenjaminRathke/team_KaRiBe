{
 "cells": [
  {
   "cell_type": "code",
   "execution_count": 8,
   "id": "1a2521fe",
   "metadata": {},
   "outputs": [],
   "source": [
    "#import Dependencies\n",
    "import os\n",
    "import pandas as pd\n",
    "import sklearn\n",
    "from sklearn.linear_model import LinearRegression\n",
    "import matplotlib.pyplot as plt"
   ]
  },
  {
   "cell_type": "code",
   "execution_count": 10,
   "id": "76b13038",
   "metadata": {},
   "outputs": [
    {
     "data": {
      "text/html": [
       "<div>\n",
       "<style scoped>\n",
       "    .dataframe tbody tr th:only-of-type {\n",
       "        vertical-align: middle;\n",
       "    }\n",
       "\n",
       "    .dataframe tbody tr th {\n",
       "        vertical-align: top;\n",
       "    }\n",
       "\n",
       "    .dataframe thead th {\n",
       "        text-align: right;\n",
       "    }\n",
       "</style>\n",
       "<table border=\"1\" class=\"dataframe\">\n",
       "  <thead>\n",
       "    <tr style=\"text-align: right;\">\n",
       "      <th></th>\n",
       "      <th>Date</th>\n",
       "      <th>Demographic_category</th>\n",
       "      <th>Administered_Dose1</th>\n",
       "      <th>Administered_Dose1_pct_known</th>\n",
       "      <th>Administered_Dose1_pct_US</th>\n",
       "      <th>Series_Complete_Yes</th>\n",
       "      <th>Administered_Dose1_pct_agegroup</th>\n",
       "      <th>Series_Complete_Pop_pct_agegroup</th>\n",
       "      <th>Series_Complete_Pop_Pct_known</th>\n",
       "      <th>Series_Complete_Pop_Pct_US</th>\n",
       "    </tr>\n",
       "  </thead>\n",
       "  <tbody>\n",
       "    <tr>\n",
       "      <th>0</th>\n",
       "      <td>10/19/2021</td>\n",
       "      <td>Ages_25-39_yrs</td>\n",
       "      <td>42709939</td>\n",
       "      <td>21.2</td>\n",
       "      <td>0.0</td>\n",
       "      <td>36210784</td>\n",
       "      <td>68.8</td>\n",
       "      <td>58.4</td>\n",
       "      <td>20.8</td>\n",
       "      <td>0.0</td>\n",
       "    </tr>\n",
       "    <tr>\n",
       "      <th>1</th>\n",
       "      <td>10/19/2021</td>\n",
       "      <td>Sex_Male</td>\n",
       "      <td>94821082</td>\n",
       "      <td>47.5</td>\n",
       "      <td>0.0</td>\n",
       "      <td>81898107</td>\n",
       "      <td>63.6</td>\n",
       "      <td>54.9</td>\n",
       "      <td>47.4</td>\n",
       "      <td>0.0</td>\n",
       "    </tr>\n",
       "    <tr>\n",
       "      <th>2</th>\n",
       "      <td>10/19/2021</td>\n",
       "      <td>Sex_unknown</td>\n",
       "      <td>1994112</td>\n",
       "      <td>1.0</td>\n",
       "      <td>0.0</td>\n",
       "      <td>1426425</td>\n",
       "      <td>0.0</td>\n",
       "      <td>0.0</td>\n",
       "      <td>0.8</td>\n",
       "      <td>0.0</td>\n",
       "    </tr>\n",
       "    <tr>\n",
       "      <th>3</th>\n",
       "      <td>10/19/2021</td>\n",
       "      <td>Race_eth_NHMult_Oth</td>\n",
       "      <td>6249439</td>\n",
       "      <td>4.6</td>\n",
       "      <td>0.0</td>\n",
       "      <td>5479898</td>\n",
       "      <td>90.6</td>\n",
       "      <td>79.4</td>\n",
       "      <td>4.4</td>\n",
       "      <td>0.0</td>\n",
       "    </tr>\n",
       "    <tr>\n",
       "      <th>4</th>\n",
       "      <td>10/19/2021</td>\n",
       "      <td>Race_eth_NHWhite</td>\n",
       "      <td>81161889</td>\n",
       "      <td>60.2</td>\n",
       "      <td>0.0</td>\n",
       "      <td>75489754</td>\n",
       "      <td>43.8</td>\n",
       "      <td>40.7</td>\n",
       "      <td>61.1</td>\n",
       "      <td>0.0</td>\n",
       "    </tr>\n",
       "  </tbody>\n",
       "</table>\n",
       "</div>"
      ],
      "text/plain": [
       "         Date Demographic_category  Administered_Dose1  \\\n",
       "0  10/19/2021       Ages_25-39_yrs            42709939   \n",
       "1  10/19/2021             Sex_Male            94821082   \n",
       "2  10/19/2021          Sex_unknown             1994112   \n",
       "3  10/19/2021  Race_eth_NHMult_Oth             6249439   \n",
       "4  10/19/2021     Race_eth_NHWhite            81161889   \n",
       "\n",
       "   Administered_Dose1_pct_known  Administered_Dose1_pct_US  \\\n",
       "0                          21.2                        0.0   \n",
       "1                          47.5                        0.0   \n",
       "2                           1.0                        0.0   \n",
       "3                           4.6                        0.0   \n",
       "4                          60.2                        0.0   \n",
       "\n",
       "   Series_Complete_Yes  Administered_Dose1_pct_agegroup  \\\n",
       "0             36210784                             68.8   \n",
       "1             81898107                             63.6   \n",
       "2              1426425                              0.0   \n",
       "3              5479898                             90.6   \n",
       "4             75489754                             43.8   \n",
       "\n",
       "   Series_Complete_Pop_pct_agegroup  Series_Complete_Pop_Pct_known  \\\n",
       "0                              58.4                           20.8   \n",
       "1                              54.9                           47.4   \n",
       "2                               0.0                            0.8   \n",
       "3                              79.4                            4.4   \n",
       "4                              40.7                           61.1   \n",
       "\n",
       "   Series_Complete_Pop_Pct_US  \n",
       "0                         0.0  \n",
       "1                         0.0  \n",
       "2                         0.0  \n",
       "3                         0.0  \n",
       "4                         0.0  "
      ]
     },
     "execution_count": 10,
     "metadata": {},
     "output_type": "execute_result"
    }
   ],
   "source": [
    "#load CSV\n",
    "df = pd.read_csv(r'C:\\Users\\reske\\Documents\\Data Analysis Bootcamp\\team_KaRiBe\\Resources\\COVID-19_Vaccination_Demographics_in_the_United_States_National.csv')\n",
    "df.head()"
   ]
  },
  {
   "cell_type": "code",
   "execution_count": 27,
   "id": "f9ec0bbd",
   "metadata": {},
   "outputs": [
    {
     "data": {
      "image/png": "[encoded data removed]",
      "text/plain": [
       "<Figure size 432x288 with 1 Axes>"
      ]
     },
     "metadata": {
      "needs_background": "light"
     },
     "output_type": "display_data"
    }
   ],
   "source": [
    "#Plot Vaccination Status based on Demographic\n",
    "plt.scatter(df.Series_Complete_Pop_pct_agegroup, df.Series_Complete_Yes)\n",
    "plt.xlabel('Series_Complete_Pop_pct_agegroup')\n",
    "plt.ylabel('Series_Complete_Yes')\n",
    "plt.show()"
   ]
  },
  {
   "cell_type": "code",
   "execution_count": 29,
   "id": "43d94696",
   "metadata": {},
   "outputs": [],
   "source": [
    "#format data\n",
    "X = df.Series_Complete_Pop_pct_agegroup.values.reshape(-1, 1)\n",
    "y = df.Series_Complete_Yes"
   ]
  },
  {
   "cell_type": "code",
   "execution_count": 30,
   "id": "4749a21d",
   "metadata": {},
   "outputs": [
    {
     "data": {
      "image/png": "[encoded data removed]",
      "text/plain": [
       "<Figure size 432x288 with 1 Axes>"
      ]
     },
     "metadata": {
      "needs_background": "light"
     },
     "output_type": "display_data"
    }
   ],
   "source": [
    "#create linear model\n",
    "model = LinearRegression()\n",
    "model.fit(X, y)\n",
    "y_pred = model.predict(X)\n",
    "#print(y_pred.shape)\n",
    "plt.scatter(X, y)\n",
    "plt.plot(X, y_pred, color='red')\n",
    "plt.show()"
   ]
  },
  {
   "cell_type": "code",
   "execution_count": null,
   "id": "1b5a13e1",
   "metadata": {},
   "outputs": [],
   "source": []
  }
 ],
 "metadata": {
  "kernelspec": {
   "display_name": "Python 3",
   "language": "python",
   "name": "python3"
  },
  "language_info": {
   "codemirror_mode": {
    "name": "ipython",
    "version": 3
   },
   "file_extension": ".py",
   "mimetype": "text/x-python",
   "name": "python",
   "nbconvert_exporter": "python",
   "pygments_lexer": "ipython3",
   "version": "3.7.10"
  }
 },
 "nbformat": 4,
 "nbformat_minor": 5
}

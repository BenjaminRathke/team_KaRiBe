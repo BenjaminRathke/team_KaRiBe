{
 "cells": [
  {
   "cell_type": "code",
   "execution_count": 25,
   "id": "4bdc74a6",
   "metadata": {},
   "outputs": [],
   "source": [
    "import pandas as pd"
   ]
  },
  {
   "cell_type": "code",
   "execution_count": 60,
   "id": "9841cc87",
   "metadata": {},
   "outputs": [],
   "source": [
    "vaccByCounty = pd.read_csv(\"vacc_by_county/COVID-19_Vaccinations_in_the_United_States_County.csv\", low_memory=False)"
   ]
  },
  {
   "cell_type": "code",
   "execution_count": 61,
   "id": "8708416c",
   "metadata": {},
   "outputs": [],
   "source": [
    "vaccByCountyFIPS = vaccByCounty.set_index(\"FIPS\")\n",
    "#vaccByCountyFIPS = vaccByCountyFIPS.drop(\"UNK\")\n",
    "vaccByCounty = vaccByCountyFIPS.reset_index()"
   ]
  },
  {
   "cell_type": "code",
   "execution_count": 64,
   "id": "bb6b7d99",
   "metadata": {},
   "outputs": [
    {
     "ename": "KeyError",
     "evalue": "'Recip_County'",
     "output_type": "error",
     "traceback": [
      "\u001b[1;31m---------------------------------------------------------------------------\u001b[0m",
      "\u001b[1;31mKeyError\u001b[0m                                  Traceback (most recent call last)",
      "\u001b[1;32m~\\anaconda3\\lib\\site-packages\\pandas\\core\\indexes\\base.py\u001b[0m in \u001b[0;36mget_loc\u001b[1;34m(self, key, method, tolerance)\u001b[0m\n\u001b[0;32m   3079\u001b[0m             \u001b[1;32mtry\u001b[0m\u001b[1;33m:\u001b[0m\u001b[1;33m\u001b[0m\u001b[1;33m\u001b[0m\u001b[0m\n\u001b[1;32m-> 3080\u001b[1;33m                 \u001b[1;32mreturn\u001b[0m \u001b[0mself\u001b[0m\u001b[1;33m.\u001b[0m\u001b[0m_engine\u001b[0m\u001b[1;33m.\u001b[0m\u001b[0mget_loc\u001b[0m\u001b[1;33m(\u001b[0m\u001b[0mcasted_key\u001b[0m\u001b[1;33m)\u001b[0m\u001b[1;33m\u001b[0m\u001b[1;33m\u001b[0m\u001b[0m\n\u001b[0m\u001b[0;32m   3081\u001b[0m             \u001b[1;32mexcept\u001b[0m \u001b[0mKeyError\u001b[0m \u001b[1;32mas\u001b[0m \u001b[0merr\u001b[0m\u001b[1;33m:\u001b[0m\u001b[1;33m\u001b[0m\u001b[1;33m\u001b[0m\u001b[0m\n",
      "\u001b[1;32mpandas\\_libs\\index.pyx\u001b[0m in \u001b[0;36mpandas._libs.index.IndexEngine.get_loc\u001b[1;34m()\u001b[0m\n",
      "\u001b[1;32mpandas\\_libs\\index.pyx\u001b[0m in \u001b[0;36mpandas._libs.index.IndexEngine.get_loc\u001b[1;34m()\u001b[0m\n",
      "\u001b[1;32mpandas\\_libs\\hashtable_class_helper.pxi\u001b[0m in \u001b[0;36mpandas._libs.hashtable.PyObjectHashTable.get_item\u001b[1;34m()\u001b[0m\n",
      "\u001b[1;32mpandas\\_libs\\hashtable_class_helper.pxi\u001b[0m in \u001b[0;36mpandas._libs.hashtable.PyObjectHashTable.get_item\u001b[1;34m()\u001b[0m\n",
      "\u001b[1;31mKeyError\u001b[0m: 'Recip_County'",
      "\nThe above exception was the direct cause of the following exception:\n",
      "\u001b[1;31mKeyError\u001b[0m                                  Traceback (most recent call last)",
      "\u001b[1;32m<ipython-input-64-9aa25642de7c>\u001b[0m in \u001b[0;36m<module>\u001b[1;34m\u001b[0m\n\u001b[0;32m     29\u001b[0m \u001b[1;31m#vaccByCounty = vaccByCounty.dropna(axis = 0, how = \"any\", subset = [])\u001b[0m\u001b[1;33m\u001b[0m\u001b[1;33m\u001b[0m\u001b[1;33m\u001b[0m\u001b[0m\n\u001b[0;32m     30\u001b[0m \u001b[1;31m#vaccByCounty.to_csv(\"vaccByCounty.csv\")\u001b[0m\u001b[1;33m\u001b[0m\u001b[1;33m\u001b[0m\u001b[1;33m\u001b[0m\u001b[0m\n\u001b[1;32m---> 31\u001b[1;33m \u001b[0mvaccByCounty\u001b[0m\u001b[1;33m[\u001b[0m\u001b[1;34m\"Recip_County\"\u001b[0m\u001b[1;33m]\u001b[0m\u001b[1;33m.\u001b[0m\u001b[0mhead\u001b[0m\u001b[1;33m(\u001b[0m\u001b[1;36m20\u001b[0m\u001b[1;33m)\u001b[0m\u001b[1;33m\u001b[0m\u001b[1;33m\u001b[0m\u001b[0m\n\u001b[0m",
      "\u001b[1;32m~\\anaconda3\\lib\\site-packages\\pandas\\core\\frame.py\u001b[0m in \u001b[0;36m__getitem__\u001b[1;34m(self, key)\u001b[0m\n\u001b[0;32m   3022\u001b[0m             \u001b[1;32mif\u001b[0m \u001b[0mself\u001b[0m\u001b[1;33m.\u001b[0m\u001b[0mcolumns\u001b[0m\u001b[1;33m.\u001b[0m\u001b[0mnlevels\u001b[0m \u001b[1;33m>\u001b[0m \u001b[1;36m1\u001b[0m\u001b[1;33m:\u001b[0m\u001b[1;33m\u001b[0m\u001b[1;33m\u001b[0m\u001b[0m\n\u001b[0;32m   3023\u001b[0m                 \u001b[1;32mreturn\u001b[0m \u001b[0mself\u001b[0m\u001b[1;33m.\u001b[0m\u001b[0m_getitem_multilevel\u001b[0m\u001b[1;33m(\u001b[0m\u001b[0mkey\u001b[0m\u001b[1;33m)\u001b[0m\u001b[1;33m\u001b[0m\u001b[1;33m\u001b[0m\u001b[0m\n\u001b[1;32m-> 3024\u001b[1;33m             \u001b[0mindexer\u001b[0m \u001b[1;33m=\u001b[0m \u001b[0mself\u001b[0m\u001b[1;33m.\u001b[0m\u001b[0mcolumns\u001b[0m\u001b[1;33m.\u001b[0m\u001b[0mget_loc\u001b[0m\u001b[1;33m(\u001b[0m\u001b[0mkey\u001b[0m\u001b[1;33m)\u001b[0m\u001b[1;33m\u001b[0m\u001b[1;33m\u001b[0m\u001b[0m\n\u001b[0m\u001b[0;32m   3025\u001b[0m             \u001b[1;32mif\u001b[0m \u001b[0mis_integer\u001b[0m\u001b[1;33m(\u001b[0m\u001b[0mindexer\u001b[0m\u001b[1;33m)\u001b[0m\u001b[1;33m:\u001b[0m\u001b[1;33m\u001b[0m\u001b[1;33m\u001b[0m\u001b[0m\n\u001b[0;32m   3026\u001b[0m                 \u001b[0mindexer\u001b[0m \u001b[1;33m=\u001b[0m \u001b[1;33m[\u001b[0m\u001b[0mindexer\u001b[0m\u001b[1;33m]\u001b[0m\u001b[1;33m\u001b[0m\u001b[1;33m\u001b[0m\u001b[0m\n",
      "\u001b[1;32m~\\anaconda3\\lib\\site-packages\\pandas\\core\\indexes\\base.py\u001b[0m in \u001b[0;36mget_loc\u001b[1;34m(self, key, method, tolerance)\u001b[0m\n\u001b[0;32m   3080\u001b[0m                 \u001b[1;32mreturn\u001b[0m \u001b[0mself\u001b[0m\u001b[1;33m.\u001b[0m\u001b[0m_engine\u001b[0m\u001b[1;33m.\u001b[0m\u001b[0mget_loc\u001b[0m\u001b[1;33m(\u001b[0m\u001b[0mcasted_key\u001b[0m\u001b[1;33m)\u001b[0m\u001b[1;33m\u001b[0m\u001b[1;33m\u001b[0m\u001b[0m\n\u001b[0;32m   3081\u001b[0m             \u001b[1;32mexcept\u001b[0m \u001b[0mKeyError\u001b[0m \u001b[1;32mas\u001b[0m \u001b[0merr\u001b[0m\u001b[1;33m:\u001b[0m\u001b[1;33m\u001b[0m\u001b[1;33m\u001b[0m\u001b[0m\n\u001b[1;32m-> 3082\u001b[1;33m                 \u001b[1;32mraise\u001b[0m \u001b[0mKeyError\u001b[0m\u001b[1;33m(\u001b[0m\u001b[0mkey\u001b[0m\u001b[1;33m)\u001b[0m \u001b[1;32mfrom\u001b[0m \u001b[0merr\u001b[0m\u001b[1;33m\u001b[0m\u001b[1;33m\u001b[0m\u001b[0m\n\u001b[0m\u001b[0;32m   3083\u001b[0m \u001b[1;33m\u001b[0m\u001b[0m\n\u001b[0;32m   3084\u001b[0m         \u001b[1;32mif\u001b[0m \u001b[0mtolerance\u001b[0m \u001b[1;32mis\u001b[0m \u001b[1;32mnot\u001b[0m \u001b[1;32mNone\u001b[0m\u001b[1;33m:\u001b[0m\u001b[1;33m\u001b[0m\u001b[1;33m\u001b[0m\u001b[0m\n",
      "\u001b[1;31mKeyError\u001b[0m: 'Recip_County'"
     ]
    }
   ],
   "source": [
    "vaccByCounty = vaccByCounty[['FIPS',\n",
    " 'dateAdmin',\n",
    " 'MMWR_week',\n",
    " 'Series_Complete_Pop_Pct',\n",
    " 'Series_Complete_Yes',\n",
    " 'Series_Complete_12Plus',\n",
    " 'Series_Complete_12PlusPop_Pct',\n",
    " 'Series_Complete_18Plus',\n",
    " 'Series_Complete_18PlusPop_Pct',\n",
    " 'Series_Complete_65Plus',\n",
    " 'Series_Complete_65PlusPop_Pct',\n",
    " 'Completeness_pct',\n",
    " 'Administered_Dose1_Recip',\n",
    " 'Administered_Dose1_Pop_Pct',\n",
    " 'Administered_Dose1_Recip_12Plus',\n",
    " 'Administered_Dose1_Recip_12PlusPop_Pct',\n",
    " 'Administered_Dose1_Recip_18Plus',\n",
    " 'Administered_Dose1_Recip_18PlusPop_Pct',\n",
    " 'Administered_Dose1_Recip_65Plus',\n",
    " 'Administered_Dose1_Recip_65PlusPop_Pct',\n",
    " 'Series_Complete_Pop_Pct_SVI',\n",
    " 'Series_Complete_12PlusPop_Pct_SVI',\n",
    " 'Series_Complete_18PlusPop_Pct_SVI',\n",
    " 'Series_Complete_65PlusPop_Pct_SVI',\n",
    " 'Series_Complete_Pop_Pct_UR_Equity',\n",
    " 'Series_Complete_12PlusPop_Pct_UR_Equity',\n",
    " 'Series_Complete_18PlusPop_Pct_UR_Equity',\n",
    " 'Series_Complete_65PlusPop_Pct_UR_Equity']].fillna(0)\n",
    "#vaccByCounty = vaccByCounty.dropna(axis = 0, how = \"any\", subset = [])\n",
    "#vaccByCounty.to_csv(\"vaccByCounty.csv\")\n",
    "vaccByCounty[\"Recip_County\"].head(20)"
   ]
  },
  {
   "cell_type": "code",
   "execution_count": 59,
   "id": "9c7c6e14",
   "metadata": {},
   "outputs": [
    {
     "data": {
      "text/plain": [
       "['FIPS',\n",
       " 'dateAdmin',\n",
       " 'MMWR_week',\n",
       " 'Recip_County',\n",
       " 'Recip_State',\n",
       " 'Series_Complete_Pop_Pct',\n",
       " 'Series_Complete_Yes',\n",
       " 'Series_Complete_12Plus',\n",
       " 'Series_Complete_12PlusPop_Pct',\n",
       " 'Series_Complete_18Plus',\n",
       " 'Series_Complete_18PlusPop_Pct',\n",
       " 'Series_Complete_65Plus',\n",
       " 'Series_Complete_65PlusPop_Pct',\n",
       " 'Completeness_pct',\n",
       " 'Administered_Dose1_Recip',\n",
       " 'Administered_Dose1_Pop_Pct',\n",
       " 'Administered_Dose1_Recip_12Plus',\n",
       " 'Administered_Dose1_Recip_12PlusPop_Pct',\n",
       " 'Administered_Dose1_Recip_18Plus',\n",
       " 'Administered_Dose1_Recip_18PlusPop_Pct',\n",
       " 'Administered_Dose1_Recip_65Plus',\n",
       " 'Administered_Dose1_Recip_65PlusPop_Pct',\n",
       " 'SVI_CTGY',\n",
       " 'Series_Complete_Pop_Pct_SVI',\n",
       " 'Series_Complete_12PlusPop_Pct_SVI',\n",
       " 'Series_Complete_18PlusPop_Pct_SVI',\n",
       " 'Series_Complete_65PlusPop_Pct_SVI',\n",
       " 'Metro_status',\n",
       " 'Series_Complete_Pop_Pct_UR_Equity',\n",
       " 'Series_Complete_12PlusPop_Pct_UR_Equity',\n",
       " 'Series_Complete_18PlusPop_Pct_UR_Equity',\n",
       " 'Series_Complete_65PlusPop_Pct_UR_Equity']"
      ]
     },
     "execution_count": 59,
     "metadata": {},
     "output_type": "execute_result"
    }
   ],
   "source": [
    "vaccByCounty.columns.tolist()"
   ]
  },
  {
   "cell_type": "code",
   "execution_count": null,
   "id": "e955bb89",
   "metadata": {},
   "outputs": [],
   "source": []
  }
 ],
 "metadata": {
  "kernelspec": {
   "display_name": "PythonData",
   "language": "python",
   "name": "pythondata"
  },
  "language_info": {
   "codemirror_mode": {
    "name": "ipython",
    "version": 3
   },
   "file_extension": ".py",
   "mimetype": "text/x-python",
   "name": "python",
   "nbconvert_exporter": "python",
   "pygments_lexer": "ipython3",
   "version": "3.8.8"
  }
 },
 "nbformat": 4,
 "nbformat_minor": 5
}

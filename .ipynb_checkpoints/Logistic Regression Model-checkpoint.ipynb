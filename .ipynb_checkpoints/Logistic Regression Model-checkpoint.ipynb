{
 "cells": [
  {
   "cell_type": "code",
   "execution_count": 1,
   "id": "aeb62a73",
   "metadata": {},
   "outputs": [],
   "source": [
    "import pandas as pd\n",
    "import numpy as np\n",
    "import matplotlib.pyplot as plt\n",
    "%matplotlib inline\n",
    "import seaborn as sns\n",
    "from sklearn.model_selection import train_test_split\n",
    "from sklearn.linear_model import LogisticRegression\n",
    "from sklearn.metrics import classification_report\n",
    "from sklearn.metrics import confusion_matrix"
   ]
  },
  {
   "cell_type": "code",
   "execution_count": 2,
   "id": "4f7ac4f0",
   "metadata": {},
   "outputs": [
    {
     "data": {
      "text/html": [
       "<div>\n",
       "<style scoped>\n",
       "    .dataframe tbody tr th:only-of-type {\n",
       "        vertical-align: middle;\n",
       "    }\n",
       "\n",
       "    .dataframe tbody tr th {\n",
       "        vertical-align: top;\n",
       "    }\n",
       "\n",
       "    .dataframe thead th {\n",
       "        text-align: right;\n",
       "    }\n",
       "</style>\n",
       "<table border=\"1\" class=\"dataframe\">\n",
       "  <thead>\n",
       "    <tr style=\"text-align: right;\">\n",
       "      <th></th>\n",
       "      <th>winner</th>\n",
       "      <th>Acousticness</th>\n",
       "      <th>Danceability</th>\n",
       "      <th>Duration</th>\n",
       "      <th>Energy</th>\n",
       "      <th>Explicit</th>\n",
       "      <th>Instrumentalness</th>\n",
       "      <th>Liveness</th>\n",
       "      <th>Loudness</th>\n",
       "      <th>Mode</th>\n",
       "      <th>Popularity</th>\n",
       "      <th>Speechiness</th>\n",
       "      <th>Tempo</th>\n",
       "      <th>TimeSignature</th>\n",
       "      <th>Valence</th>\n",
       "    </tr>\n",
       "  </thead>\n",
       "  <tbody>\n",
       "    <tr>\n",
       "      <th>0</th>\n",
       "      <td>0</td>\n",
       "      <td>0.0332</td>\n",
       "      <td>0.754</td>\n",
       "      <td>198973</td>\n",
       "      <td>0.449</td>\n",
       "      <td>1</td>\n",
       "      <td>0.000083</td>\n",
       "      <td>0.5520</td>\n",
       "      <td>-9.211</td>\n",
       "      <td>1</td>\n",
       "      <td>86</td>\n",
       "      <td>0.1090</td>\n",
       "      <td>77.169</td>\n",
       "      <td>4</td>\n",
       "      <td>0.357</td>\n",
       "    </tr>\n",
       "    <tr>\n",
       "      <th>1</th>\n",
       "      <td>0</td>\n",
       "      <td>0.3270</td>\n",
       "      <td>0.236</td>\n",
       "      <td>279373</td>\n",
       "      <td>0.578</td>\n",
       "      <td>0</td>\n",
       "      <td>0.000150</td>\n",
       "      <td>0.2060</td>\n",
       "      <td>-5.477</td>\n",
       "      <td>1</td>\n",
       "      <td>62</td>\n",
       "      <td>0.0404</td>\n",
       "      <td>75.367</td>\n",
       "      <td>4</td>\n",
       "      <td>0.227</td>\n",
       "    </tr>\n",
       "    <tr>\n",
       "      <th>2</th>\n",
       "      <td>0</td>\n",
       "      <td>0.1980</td>\n",
       "      <td>0.655</td>\n",
       "      <td>229360</td>\n",
       "      <td>0.797</td>\n",
       "      <td>0</td>\n",
       "      <td>0.000000</td>\n",
       "      <td>0.0670</td>\n",
       "      <td>-4.787</td>\n",
       "      <td>1</td>\n",
       "      <td>79</td>\n",
       "      <td>0.1530</td>\n",
       "      <td>177.928</td>\n",
       "      <td>4</td>\n",
       "      <td>0.839</td>\n",
       "    </tr>\n",
       "    <tr>\n",
       "      <th>3</th>\n",
       "      <td>0</td>\n",
       "      <td>0.0742</td>\n",
       "      <td>0.796</td>\n",
       "      <td>219333</td>\n",
       "      <td>0.766</td>\n",
       "      <td>1</td>\n",
       "      <td>0.000000</td>\n",
       "      <td>0.0827</td>\n",
       "      <td>-5.974</td>\n",
       "      <td>1</td>\n",
       "      <td>26</td>\n",
       "      <td>0.2380</td>\n",
       "      <td>110.034</td>\n",
       "      <td>4</td>\n",
       "      <td>0.558</td>\n",
       "    </tr>\n",
       "    <tr>\n",
       "      <th>4</th>\n",
       "      <td>0</td>\n",
       "      <td>0.1030</td>\n",
       "      <td>0.760</td>\n",
       "      <td>231827</td>\n",
       "      <td>0.703</td>\n",
       "      <td>0</td>\n",
       "      <td>0.000000</td>\n",
       "      <td>0.0913</td>\n",
       "      <td>-5.412</td>\n",
       "      <td>1</td>\n",
       "      <td>60</td>\n",
       "      <td>0.0540</td>\n",
       "      <td>95.997</td>\n",
       "      <td>4</td>\n",
       "      <td>0.570</td>\n",
       "    </tr>\n",
       "  </tbody>\n",
       "</table>\n",
       "</div>"
      ],
      "text/plain": [
       "   winner  Acousticness  Danceability  Duration  Energy  Explicit  \\\n",
       "0       0        0.0332         0.754    198973   0.449         1   \n",
       "1       0        0.3270         0.236    279373   0.578         0   \n",
       "2       0        0.1980         0.655    229360   0.797         0   \n",
       "3       0        0.0742         0.796    219333   0.766         1   \n",
       "4       0        0.1030         0.760    231827   0.703         0   \n",
       "\n",
       "   Instrumentalness  Liveness  Loudness  Mode  Popularity  Speechiness  \\\n",
       "0          0.000083    0.5520    -9.211     1          86       0.1090   \n",
       "1          0.000150    0.2060    -5.477     1          62       0.0404   \n",
       "2          0.000000    0.0670    -4.787     1          79       0.1530   \n",
       "3          0.000000    0.0827    -5.974     1          26       0.2380   \n",
       "4          0.000000    0.0913    -5.412     1          60       0.0540   \n",
       "\n",
       "     Tempo  TimeSignature  Valence  \n",
       "0   77.169              4    0.357  \n",
       "1   75.367              4    0.227  \n",
       "2  177.928              4    0.839  \n",
       "3  110.034              4    0.558  \n",
       "4   95.997              4    0.570  "
      ]
     },
     "execution_count": 2,
     "metadata": {},
     "output_type": "execute_result"
    }
   ],
   "source": [
    "#load csv and checkout dataset\n",
    "songdatacleaned=pd.read_csv(r'C:\\Users\\Ben\\Documents\\DUBootCamp\\repositories\\team_KaRiBe\\Resources\\Data\\songdata_cleaned.csv')\n",
    "sdc=songdatacleaned\n",
    "sdc.head()\n",
    "#sdc.tail()\n",
    "#sdc.columns\n",
    "#sdc.shape"
   ]
  },
  {
   "cell_type": "code",
   "execution_count": 3,
   "id": "ef242bb1",
   "metadata": {},
   "outputs": [
    {
     "data": {
      "text/plain": [
       "<AxesSubplot:xlabel='winner', ylabel='count'>"
      ]
     },
     "execution_count": 3,
     "metadata": {},
     "output_type": "execute_result"
    },
    {
     "data": {
      "image/png": "[encoded data removed]",
      "text/plain": [
       "<Figure size 432x288 with 1 Axes>"
      ]
     },
     "metadata": {
      "needs_background": "light"
     },
     "output_type": "display_data"
    }
   ],
   "source": [
    "#visualize winner vs. losers\n",
    "sns.countplot(x='winner', data=sdc)"
   ]
  },
  {
   "cell_type": "code",
   "execution_count": 4,
   "id": "d6eff6de",
   "metadata": {},
   "outputs": [
    {
     "data": {
      "text/plain": [
       "<AxesSubplot:xlabel='winner', ylabel='count'>"
      ]
     },
     "execution_count": 4,
     "metadata": {},
     "output_type": "execute_result"
    },
    {
     "data": {
      "image/png": "[encoded data removed]",
      "text/plain": [
       "<Figure size 432x288 with 1 Axes>"
      ]
     },
     "metadata": {
      "needs_background": "light"
     },
     "output_type": "display_data"
    }
   ],
   "source": [
    "#visualize relationship between winner and Popularity for funsies (did not turn out how I thought) Too many data points to compare\n",
    "#sns.countplot(x='winner', hue='Popularity', data=sdc)"
   ]
  },
  {
   "cell_type": "code",
   "execution_count": 35,
   "id": "ac62eed7",
   "metadata": {},
   "outputs": [],
   "source": [
    "# Generate Training Data and Test Data \n",
    "y_data = sdc['winner']\n",
    "\n",
    "x_data = sdc.drop('winner', axis = 1)\n",
    "\n",
    "#test_size at 30%\n",
    "x_training_data, x_test_data, y_training_data, y_test_data = train_test_split(x_data, y_data, test_size = 0.3)"
   ]
  },
  {
   "cell_type": "code",
   "execution_count": 44,
   "id": "06a672f6",
   "metadata": {},
   "outputs": [
    {
     "data": {
      "text/plain": [
       "LogisticRegression(random_state=1)"
      ]
     },
     "execution_count": 44,
     "metadata": {},
     "output_type": "execute_result"
    }
   ],
   "source": [
    "#create Model \n",
    "model = LogisticRegression(solver='lbfgs', random_state=1)\n",
    "\n",
    "#train model calling the fit method and pass in training variables\n",
    "model.fit(x_training_data, y_training_data)\n",
    "model"
   ]
  },
  {
   "cell_type": "code",
   "execution_count": 41,
   "id": "4d7e583a",
   "metadata": {},
   "outputs": [
    {
     "data": {
      "text/plain": [
       "array([0, 0, 0, 0, 0, 0, 0, 0, 0, 0, 0, 0, 0, 0, 0, 0, 0], dtype=int64)"
      ]
     },
     "execution_count": 41,
     "metadata": {},
     "output_type": "execute_result"
    }
   ],
   "source": [
    "#create predictions\n",
    "predictions = model.predict(x_test_data)\n",
    "predictions"
   ]
  },
  {
   "cell_type": "code",
   "execution_count": 42,
   "id": "683437ac",
   "metadata": {},
   "outputs": [
    {
     "name": "stderr",
     "output_type": "stream",
     "text": [
      "C:\\Users\\reske\\Anaconda3\\envs\\PythonData\\lib\\site-packages\\sklearn\\metrics\\_classification.py:1245: UndefinedMetricWarning: Precision and F-score are ill-defined and being set to 0.0 in labels with no predicted samples. Use `zero_division` parameter to control this behavior.\n",
      "  _warn_prf(average, modifier, msg_start, len(result))\n",
      "C:\\Users\\reske\\Anaconda3\\envs\\PythonData\\lib\\site-packages\\sklearn\\metrics\\_classification.py:1245: UndefinedMetricWarning: Precision and F-score are ill-defined and being set to 0.0 in labels with no predicted samples. Use `zero_division` parameter to control this behavior.\n",
      "  _warn_prf(average, modifier, msg_start, len(result))\n",
      "C:\\Users\\reske\\Anaconda3\\envs\\PythonData\\lib\\site-packages\\sklearn\\metrics\\_classification.py:1245: UndefinedMetricWarning: Precision and F-score are ill-defined and being set to 0.0 in labels with no predicted samples. Use `zero_division` parameter to control this behavior.\n",
      "  _warn_prf(average, modifier, msg_start, len(result))\n"
     ]
    },
    {
     "data": {
      "text/plain": [
       "'              precision    recall  f1-score   support\\n\\n           0       0.76      1.00      0.87        13\\n           1       0.00      0.00      0.00         4\\n\\n    accuracy                           0.76        17\\n   macro avg       0.38      0.50      0.43        17\\nweighted avg       0.58      0.76      0.66        17\\n'"
      ]
     },
     "execution_count": 42,
     "metadata": {},
     "output_type": "execute_result"
    }
   ],
   "source": [
    "#measure performance of our model\n",
    "classification_report(y_test_data, predictions)"
   ]
  },
  {
   "cell_type": "code",
   "execution_count": 43,
   "id": "82d809d8",
   "metadata": {},
   "outputs": [
    {
     "name": "stdout",
     "output_type": "stream",
     "text": [
      "[[13  0]\n",
      " [ 4  0]]\n"
     ]
    }
   ],
   "source": [
    "#confusion matrix \n",
    "print(confusion_matrix(y_test_data, predictions))"
   ]
  },
  {
   "cell_type": "code",
   "execution_count": null,
   "id": "9868ff98",
   "metadata": {},
   "outputs": [],
   "source": []
  }
 ],
 "metadata": {
  "kernelspec": {
   "display_name": "mlenv",
   "language": "python",
   "name": "mlenv"
  },
  "language_info": {
   "codemirror_mode": {
    "name": "ipython",
    "version": 3
   },
   "file_extension": ".py",
   "mimetype": "text/x-python",
   "name": "python",
   "nbconvert_exporter": "python",
   "pygments_lexer": "ipython3",
   "version": "3.7.10"
  }
 },
 "nbformat": 4,
 "nbformat_minor": 5
}
